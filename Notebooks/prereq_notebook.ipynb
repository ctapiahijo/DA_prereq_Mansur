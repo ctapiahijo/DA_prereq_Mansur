{
 "cells": [
  {
   "cell_type": "code",
   "execution_count": 4,
   "id": "45c36543",
   "metadata": {},
   "outputs": [],
   "source": [
    "## Hi, I'm Mansur\n",
    "\n",
    "##Excited to learn data analysis with Python and work on real projects!"
   ]
  },
  {
   "cell_type": "code",
   "execution_count": 5,
   "id": "1f08706d",
   "metadata": {},
   "outputs": [
    {
     "name": "stdout",
     "output_type": "stream",
     "text": [
      "Hello, data world!\n"
     ]
    }
   ],
   "source": [
    "print(\"Hello, data world!\")\n"
   ]
  }
 ],
 "metadata": {
  "kernelspec": {
   "display_name": "Python 3",
   "language": "python",
   "name": "python3"
  },
  "language_info": {
   "codemirror_mode": {
    "name": "ipython",
    "version": 3
   },
   "file_extension": ".py",
   "mimetype": "text/x-python",
   "name": "python",
   "nbconvert_exporter": "python",
   "pygments_lexer": "ipython3",
   "version": "3.13.5"
  }
 },
 "nbformat": 4,
 "nbformat_minor": 5
}
